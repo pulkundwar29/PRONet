{
 "cells": [
  {
   "cell_type": "code",
   "execution_count": 13,
   "metadata": {},
   "outputs": [
    {
     "name": "stdout",
     "output_type": "stream",
     "text": [
      "1/1 [==============================] - 0s 95ms/step\n",
      "Predictions: [[0.04167474 0.05134792 0.72234327 0.18463407]]\n"
     ]
    }
   ],
   "source": [
    "import tensorflow as tf\n",
    "from tensorflow.keras.preprocessing import image\n",
    "from tensorflow.keras.applications.inception_v3 import preprocess_input, decode_predictions\n",
    "import numpy as np\n",
    "\n",
    "# Load your pre-trained model\n",
    "model = tf.keras.models.load_model('tm21.h5')\n",
    "\n",
    "# Specify the path to your test image\n",
    "image_path = 'Mild.jpg'\n",
    "\n",
    "# Load and preprocess the image\n",
    "img = image.load_img(image_path, target_size=(128, 128))  # Adjust target_size based on your model input size\n",
    "img_array = image.img_to_array(img)\n",
    "img_array = np.expand_dims(img_array, axis=0)\n",
    "img_array = preprocess_input(img_array)\n",
    "\n",
    "# Make predictions\n",
    "predictions = model.predict(img_array)\n",
    "\n",
    "# Display the predicted class and probabilities\n",
    "print(\"Predictions:\", predictions)\n",
    "\n",
    "# # Optionally, if your model was trained with class labels, you can decode the predictions\n",
    "# # For example, if it's a classification model trained with ImageNet labels\n",
    "# decoded_predictions = decode_predictions(predictions)\n",
    "# print(\"Decoded Predictions:\", decoded_predictions)\n"
   ]
  },
  {
   "cell_type": "code",
   "execution_count": null,
   "metadata": {},
   "outputs": [],
   "source": []
  }
 ],
 "metadata": {
  "kernelspec": {
   "display_name": "Python 3",
   "language": "python",
   "name": "python3"
  },
  "language_info": {
   "codemirror_mode": {
    "name": "ipython",
    "version": 3
   },
   "file_extension": ".py",
   "mimetype": "text/x-python",
   "name": "python",
   "nbconvert_exporter": "python",
   "pygments_lexer": "ipython3",
   "version": "3.9.13"
  }
 },
 "nbformat": 4,
 "nbformat_minor": 2
}
